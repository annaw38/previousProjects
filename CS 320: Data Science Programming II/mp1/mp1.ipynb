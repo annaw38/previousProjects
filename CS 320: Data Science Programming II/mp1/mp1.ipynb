{
 "cells": [
  {
   "cell_type": "code",
   "execution_count": 1,
   "id": "4c2c96ea-9305-49a4-ba01-f75df49b89a8",
   "metadata": {},
   "outputs": [],
   "source": [
    "import copy\n",
    "import json\n",
    "import pandas as pd\n",
    "import os\n",
    "import matplotlib.pyplot as plt"
   ]
  },
  {
   "cell_type": "code",
   "execution_count": 2,
   "id": "db1c9c46-2fad-456a-9665-d2de01d39ee4",
   "metadata": {},
   "outputs": [
    {
     "data": {
      "text/plain": [
       "float"
      ]
     },
     "execution_count": 2,
     "metadata": {},
     "output_type": "execute_result"
    }
   ],
   "source": [
    "#Q1\n",
    "type(11/7)"
   ]
  },
  {
   "cell_type": "code",
   "execution_count": 3,
   "id": "5ad21ddc-d50f-468e-89e7-3fca23a7d8cf",
   "metadata": {},
   "outputs": [
    {
     "data": {
      "text/plain": [
       "1.5714285714285714"
      ]
     },
     "execution_count": 3,
     "metadata": {},
     "output_type": "execute_result"
    }
   ],
   "source": [
    "11/7"
   ]
  },
  {
   "cell_type": "code",
   "execution_count": 4,
   "id": "3e521649-431e-4385-b576-ce72a3744203",
   "metadata": {},
   "outputs": [
    {
     "data": {
      "text/plain": [
       "1"
      ]
     },
     "execution_count": 4,
     "metadata": {},
     "output_type": "execute_result"
    }
   ],
   "source": [
    "11//7"
   ]
  },
  {
   "cell_type": "code",
   "execution_count": 5,
   "id": "7dc48731-15d8-456e-83ca-96bb6d3dd33d",
   "metadata": {},
   "outputs": [
    {
     "data": {
      "text/plain": [
       "True"
      ]
     },
     "execution_count": 5,
     "metadata": {},
     "output_type": "execute_result"
    }
   ],
   "source": [
    "#Q2\n",
    "fruit_list = [\"apple\", \"pear\", \"banana\", \"watermelon\"]\n",
    "fruit_list_length = len(fruit_list) # Don't hardcode this. Use a Python built-in\n",
    "\n",
    "minimum = 2\n",
    "maximum = 5\n",
    "in_range = fruit_list_length >= minimum and fruit_list_length <= maximum # True if the number of fruits in fruit_list is inside the minimum-to-maximum range\n",
    "in_range\n"
   ]
  },
  {
   "cell_type": "code",
   "execution_count": 6,
   "id": "e56deaa5-6849-4352-9d5f-fcfe5f97f27b",
   "metadata": {},
   "outputs": [
    {
     "data": {
      "text/plain": [
       "2"
      ]
     },
     "execution_count": 6,
     "metadata": {},
     "output_type": "execute_result"
    }
   ],
   "source": [
    "#Q3\n",
    "filepaths = \"TESTING_FILE1.C5V-TESTING_FILE2.CSV-TESTING_FILE3.CSV\"\n",
    "file_list = filepaths.split(\"-\")\n",
    "csv_count = 0\n",
    "for file in file_list:\n",
    "    if \"CSV\" in file:\n",
    "        csv_count += 1\n",
    "csv_count\n"
   ]
  },
  {
   "cell_type": "code",
   "execution_count": 7,
   "id": "91b49c33-3cc4-4ea8-81de-261454ead4ef",
   "metadata": {},
   "outputs": [],
   "source": [
    "def multiply(*args):\n",
    "    if len(args) == 2:\n",
    "        return args[0] * args[1]\n",
    "    elif len(args) == 1:\n",
    "        return args[0] * 2\n",
    "    else: \n",
    "        print(\"One or two arguments are expected.\")"
   ]
  },
  {
   "cell_type": "code",
   "execution_count": 8,
   "id": "f3d6c037-aeef-4a65-b5b1-fb5d510890a9",
   "metadata": {},
   "outputs": [
    {
     "data": {
      "text/plain": [
       "10"
      ]
     },
     "execution_count": 8,
     "metadata": {},
     "output_type": "execute_result"
    }
   ],
   "source": [
    "#Q4\n",
    "multiply(5)"
   ]
  },
  {
   "cell_type": "code",
   "execution_count": 9,
   "id": "7cf482db-be8c-467e-83c1-de3272cec3b5",
   "metadata": {},
   "outputs": [],
   "source": [
    "def smart_multiply(nums):\n",
    "    total = 1\n",
    "    for i in nums: \n",
    "        if i <= 0: \n",
    "            continue\n",
    "        elif total > 100:\n",
    "            break\n",
    "        total *= i\n",
    "    return total"
   ]
  },
  {
   "cell_type": "code",
   "execution_count": 10,
   "id": "7a936d0b-c9ee-4e69-afe6-c9bcbed4f81b",
   "metadata": {},
   "outputs": [
    {
     "data": {
      "text/plain": [
       "200"
      ]
     },
     "execution_count": 10,
     "metadata": {},
     "output_type": "execute_result"
    }
   ],
   "source": [
    "#Q5\n",
    "smart_multiply([4, -2, 0, 5, 5, 2, 7, -2])"
   ]
  },
  {
   "cell_type": "code",
   "execution_count": 11,
   "id": "5c90e36e-eef0-4aeb-8b0c-8954881b11d7",
   "metadata": {},
   "outputs": [],
   "source": [
    "header = [\"A\", \"B\", \"C\"]\n",
    "\n",
    "coord1 = {\"x\": 8, \"y\": 5}\n",
    "coord2 = {\"x\": 9, \"y\": 2, \"z\" : 4}\n",
    "coord3 = {\"x\": 3, \"y\": 1, \"z\" : 7}\n",
    "\n",
    "rows = [\n",
    "    [1, 6, 7, 8, coord1],\n",
    "    [3, 4, 9, coord2],\n",
    "    [5, 2, coord3],\n",
    "]\n"
   ]
  },
  {
   "cell_type": "code",
   "execution_count": 12,
   "id": "1c3bee6f-8e74-4404-a3de-766e44a449b2",
   "metadata": {},
   "outputs": [
    {
     "data": {
      "text/plain": [
       "True"
      ]
     },
     "execution_count": 12,
     "metadata": {},
     "output_type": "execute_result"
    }
   ],
   "source": [
    "{\"A\":1, \"B\":2} == {\"B\":2, \"A\":1}"
   ]
  },
  {
   "cell_type": "code",
   "execution_count": 13,
   "id": "f7ccabc1-0b1a-46af-b009-06851633f023",
   "metadata": {},
   "outputs": [
    {
     "data": {
      "text/plain": [
       "[[1, 6, 7, 8, {'x': 8, 'y': 5, 'z': 6}],\n",
       " [3, 4, 9, {'x': 9, 'y': 2, 'z': 4}],\n",
       " [5, 2, {'x': 3, 'y': 1, 'z': 7}]]"
      ]
     },
     "execution_count": 13,
     "metadata": {},
     "output_type": "execute_result"
    }
   ],
   "source": [
    "#Q6\n",
    "coord1[\"z\"] = 6\n",
    "rows"
   ]
  },
  {
   "cell_type": "code",
   "execution_count": 14,
   "id": "4fa83015-7b3e-4f86-8c61-480586ab2c40",
   "metadata": {},
   "outputs": [
    {
     "data": {
      "text/plain": [
       "1"
      ]
     },
     "execution_count": 14,
     "metadata": {},
     "output_type": "execute_result"
    }
   ],
   "source": [
    "#Q7\n",
    "rows[-1][-1][\"y\"]"
   ]
  },
  {
   "cell_type": "code",
   "execution_count": 15,
   "id": "f9d7a9ac-bcfc-4190-9256-31ef4117b7d3",
   "metadata": {},
   "outputs": [
    {
     "data": {
      "text/plain": [
       "[[1, 6, 7, 8, {'x': 8, 'y': 5, 'z': 6}],\n",
       " [3, 404, 9, {'x': 9, 'y': 2, 'z': 4}],\n",
       " [5, 2, {'x': 3, 'y': 1, 'z': 7}]]"
      ]
     },
     "execution_count": 15,
     "metadata": {},
     "output_type": "execute_result"
    }
   ],
   "source": [
    "#Q8\n",
    "v2 = copy.copy(rows)\n",
    "v2[0] = 404    # first change\n",
    "v2[1][1] = 404 # second change\n",
    "rows\n"
   ]
  },
  {
   "cell_type": "code",
   "execution_count": 16,
   "id": "b6a4acc0-71bf-47b8-a87c-0dcd25044898",
   "metadata": {},
   "outputs": [
    {
     "data": {
      "text/plain": [
       "9"
      ]
     },
     "execution_count": 16,
     "metadata": {},
     "output_type": "execute_result"
    }
   ],
   "source": [
    "#Q9\n",
    "total = 0\n",
    "for i in range(len(rows)):\n",
    "    total += rows[header.index(\"A\") + i][header.index(\"A\")]\n",
    "total"
   ]
  },
  {
   "cell_type": "code",
   "execution_count": 17,
   "id": "2ae41fd4-3cb4-4fbb-ae6c-6dc245cde2a1",
   "metadata": {},
   "outputs": [
    {
     "data": {
      "text/plain": [
       "[[3, 404, 9, {'x': 9, 'y': 2, 'z': 4}],\n",
       " [1, 6, 7, 8, {'x': 8, 'y': 5, 'z': 6}],\n",
       " [5, 2, {'x': 3, 'y': 1, 'z': 7}]]"
      ]
     },
     "execution_count": 17,
     "metadata": {},
     "output_type": "execute_result"
    }
   ],
   "source": [
    "#Q10\n",
    "rows.sort(key = lambda row: row[header.index(\"B\")], reverse=True)\n",
    "rows"
   ]
  },
  {
   "cell_type": "code",
   "execution_count": 18,
   "id": "434fc51b-dd1a-4586-ad94-999b92484916",
   "metadata": {},
   "outputs": [
    {
     "data": {
      "text/plain": [
       "544.0"
      ]
     },
     "execution_count": 18,
     "metadata": {},
     "output_type": "execute_result"
    }
   ],
   "source": [
    "#Q11\n",
    "f = open(\"usd.json\")\n",
    "data = json.load(f)\n",
    "usd = 400\n",
    "# print(type(data))\n",
    "# print(data[:300] + \"...\")\n",
    "# print(type(data))\n",
    "# print(data.keys())\n",
    "for key in data.keys(): \n",
    "    if key == \"cad\":\n",
    "        for i in data[key]: \n",
    "            if i == 'rate': \n",
    "                rate = round(data[key][i], 2)\n",
    "                # print(\"rate: \", data[key][i])\n",
    "f.close()\n",
    "totalMoney = rate * usd \n",
    "totalMoney\n",
    "\n"
   ]
  },
  {
   "cell_type": "code",
   "execution_count": 19,
   "id": "d1373e89-7fd0-40b9-9546-812c756db314",
   "metadata": {},
   "outputs": [],
   "source": [
    "def convert_to_int(string):\n",
    "    try: \n",
    "        int(string)\n",
    "    except ValueError: \n",
    "        print(\"Could not convert string to int.\")\n",
    "        return None\n",
    "    except: \n",
    "        print(\"Error with your input argument.\")\n",
    "        return None    \n",
    "    return int(string)\n",
    "    "
   ]
  },
  {
   "cell_type": "code",
   "execution_count": 20,
   "id": "15d258c5-fe96-4083-9dc6-34237f5c222c",
   "metadata": {},
   "outputs": [
    {
     "data": {
      "text/plain": [
       "320"
      ]
     },
     "execution_count": 20,
     "metadata": {},
     "output_type": "execute_result"
    }
   ],
   "source": [
    "#Q12\n",
    "convert_to_int(\"320\")"
   ]
  },
  {
   "cell_type": "code",
   "execution_count": 21,
   "id": "4f73d8f5-138b-4ffc-9bdb-00b07e523c44",
   "metadata": {},
   "outputs": [
    {
     "name": "stdout",
     "output_type": "stream",
     "text": [
      "Could not convert string to int.\n"
     ]
    }
   ],
   "source": [
    "#Q13\n",
    "convert_to_int(\"ninety-nine\")"
   ]
  },
  {
   "cell_type": "code",
   "execution_count": 22,
   "id": "5d64c359-4c18-40c1-9dac-9733014c1fc8",
   "metadata": {},
   "outputs": [
    {
     "name": "stdout",
     "output_type": "stream",
     "text": [
      "Error with your input argument.\n"
     ]
    }
   ],
   "source": [
    "#Q14\n",
    "convert_to_int([3, 2, 0])"
   ]
  },
  {
   "cell_type": "code",
   "execution_count": 23,
   "id": "705947b9-3518-473d-b21e-124f395175b8",
   "metadata": {},
   "outputs": [],
   "source": [
    "\n",
    "# os.chdir('/home/famil/labs-and-projects/mp1/grade-data')\n",
    "path = os.chdir('/home/famil/labs-and-projects/mp1/grade-data')\n",
    "   \n",
    "# adapted from https://www.geeksforgeeks.org/python-os-listdir-method/\n",
    "dir_list = os.listdir(path) \n",
    "index = 0\n",
    "years = []\n",
    "dfs = []\n",
    "for file in dir_list:\n",
    "    if \"csv\" in file:\n",
    "        # copied/adapted from https://stackoverflow.com/questions/68515777/extracting-year-from-the-name-of-the-file-from-the-last-index-before-the-extenti\n",
    "        years.append(file.split('.')[0].split('-')[-1])\n",
    "        index += 1\n",
    "        df = pd.read_csv(file)\n",
    "        dfs.append(df.set_index(\"course\"))\n",
    "        \n",
    "# print(dir_list)\n",
    "# print(years)\n",
    "\n",
    "grades = {}\n",
    "for i in range(index):\n",
    "    grades.update({years[i]: dfs[i]})\n",
    "# grades = dict({years[0]: dfs[0], years[1]: dfs[1], years[2]: dfs[2], years[3]: dfs[3], years[4]: dfs[4], years[5]: dfs[5]})\n"
   ]
  },
  {
   "cell_type": "code",
   "execution_count": 24,
   "id": "52b91d71-46df-4066-af8b-d22969092de0",
   "metadata": {},
   "outputs": [
    {
     "data": {
      "text/plain": [
       "[2017, 2018, 2019, 2020, 2021, 2022]"
      ]
     },
     "execution_count": 24,
     "metadata": {},
     "output_type": "execute_result"
    }
   ],
   "source": [
    "#Q15\n",
    "years.sort()\n",
    "#copied/adapted from https://www.geeksforgeeks.org/python-converting-all-strings-in-list-to-integers/\n",
    "years = [int(i) for i in years]\n",
    "years\n"
   ]
  },
  {
   "cell_type": "code",
   "execution_count": 25,
   "id": "69625a31-86b1-4d61-8603-453fd982c5f5",
   "metadata": {},
   "outputs": [
    {
     "data": {
      "text/plain": [
       "3.325888236842226"
      ]
     },
     "execution_count": 25,
     "metadata": {},
     "output_type": "execute_result"
    }
   ],
   "source": [
    "#Q16\n",
    "for key in grades.keys():\n",
    "    if key == \"2022\":\n",
    "        avgGPA = grades.get(key).at[\"COMP SCI 320\", \"gpa\"]\n",
    "avgGPA"
   ]
  },
  {
   "cell_type": "code",
   "execution_count": 26,
   "id": "ffa01428-263a-46b6-8f0c-b06da545d72b",
   "metadata": {},
   "outputs": [
    {
     "data": {
      "text/plain": [
       "91"
      ]
     },
     "execution_count": 26,
     "metadata": {},
     "output_type": "execute_result"
    }
   ],
   "source": [
    "#Q17\n",
    "for key in grades.keys():\n",
    "    if key == \"2022\":\n",
    "        csDF = grades.get(key).loc[grades.get(key)[\"course_subject\"] == \"Computer Sciences\"]\n",
    "        \n",
    "len(csDF)"
   ]
  },
  {
   "cell_type": "code",
   "execution_count": 27,
   "id": "eb5484bb-062e-4669-8ae7-ffcf0104fab6",
   "metadata": {},
   "outputs": [
    {
     "data": {
      "text/plain": [
       "8479"
      ]
     },
     "execution_count": 27,
     "metadata": {},
     "output_type": "execute_result"
    }
   ],
   "source": [
    "#Q18\n",
    "csDF[\"a_count\"].sum()"
   ]
  },
  {
   "cell_type": "code",
   "execution_count": 28,
   "id": "fed9bdc1-3ac8-4a7a-90f4-037e5a58a761",
   "metadata": {},
   "outputs": [
    {
     "data": {
      "text/plain": [
       "0.18181818181818182"
      ]
     },
     "execution_count": 28,
     "metadata": {},
     "output_type": "execute_result"
    }
   ],
   "source": [
    "#Q19\n",
    "smallestA = (csDF[\"a_count\"]/csDF[\"total\"]).min()\n",
    "smallestA"
   ]
  },
  {
   "cell_type": "code",
   "execution_count": 29,
   "id": "07304e55-4aac-4bfe-bdfd-980ad48defad",
   "metadata": {},
   "outputs": [
    {
     "data": {
      "text/plain": [
       "{'COMP SCI 300': 0.4683698296836983,\n",
       " 'COMP SCI 304': 0.8835616438356164,\n",
       " 'COMP SCI 310': 0.345679012345679,\n",
       " 'COMP SCI 319': 0.6567164179104478,\n",
       " 'COMP SCI 320': 0.33044554455445546,\n",
       " 'COMP SCI 352': 0.29277566539923955,\n",
       " 'COMP SCI 354': 0.20095238095238097}"
      ]
     },
     "execution_count": 29,
     "metadata": {},
     "output_type": "execute_result"
    }
   ],
   "source": [
    "#Q20\n",
    "coursesA = csDF.loc[(csDF[\"course_num\"] >= 300) & (csDF[\"course_num\"] < 400)]\n",
    "percentA = coursesA[\"a_count\"]/coursesA[\"total\"]\n",
    "fractionA = percentA.to_dict()\n",
    "fractionA"
   ]
  },
  {
   "cell_type": "code",
   "execution_count": 30,
   "id": "cf72b45b-c843-4f8d-964b-9d0f44e31307",
   "metadata": {},
   "outputs": [
    {
     "data": {
      "text/plain": [
       "<Axes: xlabel='course'>"
      ]
     },
     "execution_count": 30,
     "metadata": {},
     "output_type": "execute_result"
    },
    {
     "data": {
      "image/png": "[encoded data removed]",
      "text/plain": [
       "<Figure size 640x480 with 1 Axes>"
      ]
     },
     "metadata": {},
     "output_type": "display_data"
    }
   ],
   "source": [
    "#Q21\n",
    "percentA.plot.bar()"
   ]
  },
  {
   "cell_type": "code",
   "execution_count": 31,
   "id": "c26eeca4-f156-4f5d-b1cf-00016c35c381",
   "metadata": {},
   "outputs": [
    {
     "data": {
      "image/png": "[encoded data removed]",
      "text/plain": [
       "<Figure size 640x480 with 1 Axes>"
      ]
     },
     "metadata": {},
     "output_type": "display_data"
    }
   ],
   "source": [
    "#Q22\n",
    "\n",
    "totalStud = {}\n",
    "for key in grades.keys():\n",
    "    totalStud.update({key: grades.get(key).at[\"COMP SCI 300\", \"total\"]})\n",
    "    \n",
    "# adapted from https://www.geeksforgeeks.org/python-sort-python-dictionaries-by-key-or-value/\n",
    "sortStud = list(totalStud.keys())\n",
    "sortStud.sort()\n",
    "sortedDict = {i: totalStud[i] for i in sortStud}\n",
    "# sortedDict\n",
    "\n",
    "x = list(sortedDict.keys())\n",
    "y = list(sortedDict.values())\n",
    "\n",
    "#copied from https://www.geeksforgeeks.org/graph-plotting-in-python-set-1/\n",
    "plt.plot(x,y)\n",
    "\n",
    "plt.xlabel(\"Year\")\n",
    "plt.ylabel(\"Number of Students\")\n",
    "plt.title(\"Number of Students Enrolled in COMP SCI 300 Over Time\")\n",
    "\n",
    "plt.show()\n"
   ]
  },
  {
   "cell_type": "code",
   "execution_count": 32,
   "id": "8e2c1499-66cf-4905-896b-4d43358b301b",
   "metadata": {},
   "outputs": [
    {
     "data": {
      "image/png": "[encoded data removed]",
      "text/plain": [
       "<Figure size 640x480 with 1 Axes>"
      ]
     },
     "metadata": {},
     "output_type": "display_data"
    }
   ],
   "source": [
    "#Q23\n",
    "# x = total number of students enrolled\n",
    "# y = number of students earned \"A\"\n",
    "\n",
    "for key in grades.keys():\n",
    "    if key == \"2022\":\n",
    "        totalStudents = grades.get(key)[\"total\"]\n",
    "        totalAs = grades.get(key)[\"a_count\"]\n",
    "\n",
    "\n",
    "x1 = list(totalStudents)\n",
    "y1 = list(totalAs)\n",
    "\n",
    "#adapted from https://www.geeksforgeeks.org/matplotlib-pyplot-scatter-in-python/\n",
    "plt.scatter(x1,y1)\n",
    "\n",
    "plt.xlabel(\"Number of Enrolled Students\")\n",
    "plt.ylabel(\"Number of Students Earning an \\\"A\\\" \")\n",
    "plt.title(\"Number of Students Earning an \\\"A\\\" vs. Number of Students Enrolled\")\n",
    "\n",
    "plt.show()"
   ]
  }
 ],
 "metadata": {
  "kernelspec": {
   "display_name": "Python 3 (ipykernel)",
   "language": "python",
   "name": "python3"
  },
  "language_info": {
   "codemirror_mode": {
    "name": "ipython",
    "version": 3
   },
   "file_extension": ".py",
   "mimetype": "text/x-python",
   "name": "python",
   "nbconvert_exporter": "python",
   "pygments_lexer": "ipython3",
   "version": "3.10.12"
  }
 },
 "nbformat": 4,
 "nbformat_minor": 5
}
