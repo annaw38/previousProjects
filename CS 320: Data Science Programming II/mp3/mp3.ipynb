{
 "cells": [
  {
   "cell_type": "code",
   "execution_count": 1,
   "id": "c2c22e23-1cf5-4718-9e21-bb2a57d85633",
   "metadata": {},
   "outputs": [],
   "source": [
    "import loans\n",
    "import search\n",
    "import json\n",
    "import csv\n",
    "import pandas as pd\n",
    "from zipfile import ZipFile, ZIP_DEFLATED\n",
    "from io import TextIOWrapper\n",
    "import time\n",
    "import matplotlib.pyplot as plt\n",
    "%load_ext autoreload\n",
    "%autoreload 2"
   ]
  },
  {
   "cell_type": "code",
   "execution_count": 2,
   "id": "dee8ab76-0eb8-448a-afb3-95469eb74187",
   "metadata": {},
   "outputs": [
    {
     "data": {
      "text/plain": [
       "{'American Indian or Alaska Native', 'Asian', 'Black or African American'}"
      ]
     },
     "execution_count": 2,
     "metadata": {},
     "output_type": "execute_result"
    }
   ],
   "source": [
    "applicant = loans.Applicant(\">75\", [\"1\", \"2\", \"3\"])\n",
    "applicant.race\n"
   ]
  },
  {
   "cell_type": "code",
   "execution_count": 3,
   "id": "2eee00ff-1784-4e80-9568-c509465c4923",
   "metadata": {},
   "outputs": [
    {
     "data": {
      "text/plain": [
       "\"Applicant('>75', ['American Indian or Alaska Native', 'Asian', 'Black or African American'])\""
      ]
     },
     "execution_count": 3,
     "metadata": {},
     "output_type": "execute_result"
    }
   ],
   "source": [
    "repr(applicant)"
   ]
  },
  {
   "cell_type": "code",
   "execution_count": 4,
   "id": "63b3d11c-984c-46d0-9828-55da3a653cbd",
   "metadata": {},
   "outputs": [
    {
     "data": {
      "text/plain": [
       "75"
      ]
     },
     "execution_count": 4,
     "metadata": {},
     "output_type": "execute_result"
    }
   ],
   "source": [
    "applicant.lower_age()"
   ]
  },
  {
   "cell_type": "code",
   "execution_count": 5,
   "id": "d4a8337a-da74-4294-9fc8-7fbfa7ec3349",
   "metadata": {},
   "outputs": [
    {
     "data": {
      "text/plain": [
       "[Applicant('20-30', ['American Indian or Alaska Native', 'Black or African American']),\n",
       " Applicant('<25', ['White']),\n",
       " Applicant('35-44', ['Chinese']),\n",
       " Applicant('>75', ['Other Pacific Islander', 'Samoan'])]"
      ]
     },
     "execution_count": 5,
     "metadata": {},
     "output_type": "execute_result"
    }
   ],
   "source": [
    "sorted([\n",
    "    loans.Applicant(\">75\", [\"43\", \"44\"]),\n",
    "    loans.Applicant(\"20-30\", [\"1\", \"3\"]),\n",
    "    loans.Applicant(\"35-44\", [\"22\"]),\n",
    "    loans.Applicant(\"<25\", [\"5\"]),\n",
    "])\n"
   ]
  },
  {
   "cell_type": "code",
   "execution_count": 6,
   "id": "d32793d6-fefa-4f13-b442-5d3bf6bf46de",
   "metadata": {},
   "outputs": [],
   "source": [
    "values = {'activity_year': '2020', 'lei': '549300FX7K8PTEQUU487', 'derived_msa-md': '31540', 'state_code': 'WI',\n",
    "         'county_code': '55025', 'census_tract': '55025002402', 'conforming_loan_limit': 'C',\n",
    "         'derived_loan_product_type': 'Conventional:First Lien',\n",
    "         'derived_dwelling_category': 'Single Family (1-4 Units):Site-Built',\n",
    "         'derived_ethnicity': 'Not Hispanic or Latino', 'derived_race': 'White', 'derived_sex': 'Male',\n",
    "         'action_taken': '3', 'purchaser_type': '0', 'preapproval': '2', 'loan_type': '1', 'loan_purpose': '4',\n",
    "         'lien_status': '1', 'reverse_mortgage': '2', 'open-end_line_of_credit': '1',\n",
    "         'business_or_commercial_purpose': '2', 'loan_amount': '225000.0', 'loan_to_value_ratio': '78.671',\n",
    "         'interest_rate': '3.000', 'rate_spread': 'NA', 'hoepa_status': '3', 'total_loan_costs': 'NA',\n",
    "         'total_points_and_fees': 'NA', 'origination_charges': 'NA', 'discount_points': 'NA',\n",
    "         'lender_credits': 'NA', 'loan_term': '360', 'prepayment_penalty_term': 'NA', 'intro_rate_period': '1',\n",
    "         'negative_amortization': '2', 'interest_only_payment': '2', 'balloon_payment': '2',\n",
    "         'other_nonamortizing_features': '2', 'property_value': '285000', 'construction_method': '1',\n",
    "         'occupancy_type': '1', 'manufactured_home_secured_property_type': '3',\n",
    "         'manufactured_home_land_property_interest': '5', 'total_units': '1', 'multifamily_affordable_units': 'NA',\n",
    "         'income': '0', 'debt_to_income_ratio': '>60%', 'applicant_credit_score_type': '1',\n",
    "         'co-applicant_credit_score_type': '10', 'applicant_ethnicity-1': '2', 'applicant_ethnicity-2': '',\n",
    "         'applicant_ethnicity-3': '', 'applicant_ethnicity-4': '', 'applicant_ethnicity-5': '',\n",
    "         'co-applicant_ethnicity-1': '5', 'co-applicant_ethnicity-2': '', 'co-applicant_ethnicity-3': '',\n",
    "         'co-applicant_ethnicity-4': '', 'co-applicant_ethnicity-5': '', 'applicant_ethnicity_observed': '2',\n",
    "         'co-applicant_ethnicity_observed': '4', 'applicant_race-1': '5', 'applicant_race-2': '',\n",
    "         'applicant_race-3': '', 'applicant_race-4': '', 'applicant_race-5': '', 'co-applicant_race-1': '8',\n",
    "         'co-applicant_race-2': '', 'co-applicant_race-3': '', 'co-applicant_race-4': '', 'co-applicant_race-5': '',\n",
    "         'applicant_race_observed': '2', 'co-applicant_race_observed': '4', 'applicant_sex': '1',\n",
    "         'co-applicant_sex': '5', 'applicant_sex_observed': '2', 'co-applicant_sex_observed': '4',\n",
    "         'applicant_age': '55-64', 'co-applicant_age': '9999', 'applicant_age_above_62': 'Yes',\n",
    "         'co-applicant_age_above_62': 'NA', 'submission_of_application': '1', 'initially_payable_to_institution': '1',\n",
    "         'aus-1': '6', 'aus-2': '', 'aus-3': '', 'aus-4': '', 'aus-5': '', 'denial_reason-1': '1',\n",
    "         'denial_reason-2': '', 'denial_reason-3': '', 'denial_reason-4': '', 'tract_population': '3572',\n",
    "         'tract_minority_population_percent': '41.1499999999999986', 'ffiec_msa_md_median_family_income': '96600',\n",
    "         'tract_to_msa_income_percentage': '64', 'tract_owner_occupied_units': '812',\n",
    "         'tract_one_to_four_family_homes': '910', 'tract_median_age_of_housing_units': '45'}\n",
    "\n",
    "loan = loans.Loan(values)"
   ]
  },
  {
   "cell_type": "code",
   "execution_count": 7,
   "id": "58436348-c893-4fbb-83ce-efe74b790c0d",
   "metadata": {},
   "outputs": [
    {
     "data": {
      "text/plain": [
       "3.0"
      ]
     },
     "execution_count": 7,
     "metadata": {},
     "output_type": "execute_result"
    }
   ],
   "source": [
    "loan.interest_rate"
   ]
  },
  {
   "cell_type": "code",
   "execution_count": 8,
   "id": "fbf2b247-1026-4181-9254-c0ac697c6dd7",
   "metadata": {},
   "outputs": [
    {
     "data": {
      "text/plain": [
       "[Applicant('55-64', ['White'])]"
      ]
     },
     "execution_count": 8,
     "metadata": {},
     "output_type": "execute_result"
    }
   ],
   "source": [
    "loan.applicants"
   ]
  },
  {
   "cell_type": "code",
   "execution_count": 9,
   "id": "cef6bb6b-c6ff-4229-8eca-e55297497053",
   "metadata": {},
   "outputs": [
    {
     "data": {
      "text/plain": [
       "<Loan: 3.0% on $225000.0 with 1 applicant(s)>"
      ]
     },
     "execution_count": 9,
     "metadata": {},
     "output_type": "execute_result"
    }
   ],
   "source": [
    "loan"
   ]
  },
  {
   "cell_type": "code",
   "execution_count": 10,
   "id": "9dda0f16-f2aa-4a1b-8ec6-8eee22431256",
   "metadata": {},
   "outputs": [
    {
     "name": "stdout",
     "output_type": "stream",
     "text": [
      "225000.0\n",
      "151750.0\n",
      "76302.5\n"
     ]
    }
   ],
   "source": [
    "for amt in loan.yearly_amounts(80000):\n",
    "    print(amt)\n"
   ]
  },
  {
   "cell_type": "code",
   "execution_count": 11,
   "id": "efa76bcf-bd97-4fe8-9ec2-d7da79d3a0a0",
   "metadata": {},
   "outputs": [
    {
     "data": {
      "text/plain": [
       "225000.0"
      ]
     },
     "execution_count": 11,
     "metadata": {},
     "output_type": "execute_result"
    }
   ],
   "source": [
    "loan.loan_amount"
   ]
  },
  {
   "cell_type": "code",
   "execution_count": 12,
   "id": "bdbf826b-122c-4b4a-8f77-8834f18ba989",
   "metadata": {},
   "outputs": [],
   "source": [
    "lcu = loans.Bank(\"Landmark Credit Union\")"
   ]
  },
  {
   "cell_type": "code",
   "execution_count": 13,
   "id": "f83a74bc-404e-4bc0-9fd0-541b23ddd361",
   "metadata": {},
   "outputs": [
    {
     "data": {
      "text/plain": [
       "'549300KY533JFETOYG46'"
      ]
     },
     "execution_count": 13,
     "metadata": {},
     "output_type": "execute_result"
    }
   ],
   "source": [
    "lcu.lei"
   ]
  },
  {
   "cell_type": "code",
   "execution_count": 14,
   "id": "8d17cf0d-86b9-4436-8a47-16bcbae51816",
   "metadata": {},
   "outputs": [
    {
     "name": "stdout",
     "output_type": "stream",
     "text": [
      "<Loan: 2.88% on $305000.0 with 1 applicant(s)>\n"
     ]
    }
   ],
   "source": [
    "print(lcu.loan_list[-1])\n"
   ]
  },
  {
   "cell_type": "code",
   "execution_count": 15,
   "id": "8d78cc19-29b6-4df0-8f2f-7671785e0343",
   "metadata": {
    "tags": []
   },
   "outputs": [
    {
     "name": "stdout",
     "output_type": "stream",
     "text": [
      "17632\n"
     ]
    }
   ],
   "source": [
    "print(len(lcu.loan_list))\n"
   ]
  },
  {
   "cell_type": "code",
   "execution_count": 16,
   "id": "73b71760-e3cb-4dcb-a68c-4a2a1981cdcc",
   "metadata": {},
   "outputs": [],
   "source": [
    "bank = loans.Bank(\"Merchants Bank of Indiana\")"
   ]
  },
  {
   "cell_type": "code",
   "execution_count": 17,
   "id": "b725a1b8-4bc0-48ca-808c-571af924ee76",
   "metadata": {},
   "outputs": [
    {
     "data": {
      "text/plain": [
       "3.2181818181818183"
      ]
     },
     "execution_count": 17,
     "metadata": {},
     "output_type": "execute_result"
    }
   ],
   "source": [
    "#Q1 \n",
    "interests = bank.loan_list\n",
    "sumInt = 0\n",
    "count = 0\n",
    "for i in interests:\n",
    "    if i.interest_rate != -1:\n",
    "        sumInt += i.interest_rate\n",
    "        count += 1\n",
    "    \n",
    "sumInt/count"
   ]
  },
  {
   "cell_type": "code",
   "execution_count": 18,
   "id": "db25db94-2a7f-46a0-b7a8-33e98eca1d2f",
   "metadata": {},
   "outputs": [
    {
     "data": {
      "text/plain": [
       "1.6724137931034482"
      ]
     },
     "execution_count": 18,
     "metadata": {},
     "output_type": "execute_result"
    }
   ],
   "source": [
    "#Q2\n",
    "sumApp= 0\n",
    "count = len(interests)\n",
    "for i in interests:\n",
    "    sumApp += len(i.applicants)\n",
    "\n",
    "sumApp/count"
   ]
  },
  {
   "cell_type": "code",
   "execution_count": 19,
   "id": "377dbe42-0062-48eb-b4fd-ff52c540059a",
   "metadata": {},
   "outputs": [
    {
     "data": {
      "text/plain": [
       "{'65-74': 6, '<25': 2, '35-44': 43, '25-34': 28, '45-54': 16, '55-64': 2}"
      ]
     },
     "execution_count": 19,
     "metadata": {},
     "output_type": "execute_result"
    }
   ],
   "source": [
    "#Q3\n",
    "ages = {}\n",
    "for i in interests:\n",
    "    if i.app1Age in ages.keys():\n",
    "            ages[i.app1Age] += 1\n",
    "    else:\n",
    "        ages[i.app1Age] = 1\n",
    "    if len(i.applicants) == 2:\n",
    "        if i.app2Age in ages.keys(): \n",
    "            ages[i.app2Age] += 1\n",
    "        else:\n",
    "            ages[i.app2Age] = 1\n",
    "ages"
   ]
  },
  {
   "cell_type": "code",
   "execution_count": 20,
   "id": "f18a8cc2-12ba-4908-84eb-393f3805f001",
   "metadata": {},
   "outputs": [],
   "source": [
    "mbi_tree = search.BST()\n",
    "for i in interests: \n",
    "    mbi_tree.add(i.interest_rate, i)\n",
    "# mbi_tree.root.values"
   ]
  },
  {
   "cell_type": "code",
   "execution_count": 21,
   "id": "f1bca912-b587-4e94-b691-b15b34e1f868",
   "metadata": {},
   "outputs": [
    {
     "data": {
      "text/plain": [
       "3"
      ]
     },
     "execution_count": 21,
     "metadata": {},
     "output_type": "execute_result"
    }
   ],
   "source": [
    "#Q4\n",
    "len(mbi_tree[-1.0])"
   ]
  },
  {
   "cell_type": "code",
   "execution_count": 22,
   "id": "b85be0bb-d8dd-4ad8-a1c8-2b29fb8c517a",
   "metadata": {},
   "outputs": [
    {
     "data": {
      "text/plain": [
       "8"
      ]
     },
     "execution_count": 22,
     "metadata": {},
     "output_type": "execute_result"
    }
   ],
   "source": [
    "#Q5\n",
    "mbi_tree.height(mbi_tree.root)"
   ]
  },
  {
   "cell_type": "code",
   "execution_count": 23,
   "id": "2c292d4c-0f7d-4691-96e0-b1024283f7c3",
   "metadata": {},
   "outputs": [],
   "source": [
    "bank2 = loans.Bank(\"Landmark Credit Union\")\n",
    "interests2 = bank2.loan_list\n",
    "tree = search.BST()\n",
    "# mbi_tree.root.key"
   ]
  },
  {
   "cell_type": "code",
   "execution_count": 24,
   "id": "8399b832-da64-4117-86c7-0ee57aeacbf2",
   "metadata": {},
   "outputs": [
    {
     "data": {
      "image/png": "[encoded data removed]",
      "text/plain": [
       "<Figure size 640x480 with 1 Axes>"
      ]
     },
     "metadata": {},
     "output_type": "display_data"
    }
   ],
   "source": [
    "#Q6\n",
    "num = []\n",
    "totalTime = []\n",
    "startTime = time.time()\n",
    "for i in range(15000): \n",
    "    tree.add(interests2[i].interest_rate, interests2[i])\n",
    "    endTime = time.time()\n",
    "    num.append(i)\n",
    "    totalTime.append((endTime-startTime) * 1e3)\n",
    "\n",
    "\n",
    "plt.plot(num,totalTime)\n",
    "plt.title(\"Time Elapsed for First 15,000 Entries into BST\")\n",
    "plt.xlabel(\"BST Adds\")\n",
    "plt.ylabel(\"Time Elapsed (ms)\")\n",
    "plt.show()"
   ]
  },
  {
   "cell_type": "code",
   "execution_count": 25,
   "id": "daf7f5ce-123c-429e-a6e1-3ea96768ae4b",
   "metadata": {},
   "outputs": [
    {
     "data": {
      "image/png": "[encoded data removed]",
      "text/plain": [
       "<Figure size 640x480 with 1 Axes>"
      ]
     },
     "metadata": {},
     "output_type": "display_data"
    }
   ],
   "source": [
    "#Q7\n",
    "categories = [\"Loop\", \"BST\"]\n",
    "times = []\n",
    "loopStart = time.time()\n",
    "count = 0\n",
    "for i in interests2:\n",
    "    if i.interest_rate == 1.99:\n",
    "        count += 1\n",
    "loopEnd = time.time()\n",
    "times.append((loopEnd-loopStart) * 1e3)\n",
    "\n",
    "bstStart = time.time()\n",
    "len(tree[1.99])\n",
    "bstEnd = time.time()\n",
    "times.append((bstEnd-bstStart) * 1e3)\n",
    "for i in interests2:\n",
    "    tree.add(i.interest_rate, i)\n",
    "\n",
    "plt.bar(categories, times)\n",
    "plt.title(\"Lookup Speed Comparison - Loop vs. BST\")\n",
    "plt.ylabel(\"Milliseconds\")\n",
    "plt.show()"
   ]
  },
  {
   "cell_type": "code",
   "execution_count": 26,
   "id": "aaccc9a0-8faa-42b5-8aa4-ed490d124fa7",
   "metadata": {},
   "outputs": [
    {
     "data": {
      "image/png": "[encoded data removed]",
      "text/plain": [
       "<Figure size 640x480 with 1 Axes>"
      ]
     },
     "metadata": {},
     "output_type": "display_data"
    }
   ],
   "source": [
    "#Q8\n",
    "#{0: 2639, 1: 24799, 2: 478, 3: 51, 4: 6}\n",
    "races = {}\n",
    "for i in interests2:\n",
    "    if len(i.applicants[0].race) in races.keys():\n",
    "        races[len(i.applicants[0].race)] += 1\n",
    "    else:\n",
    "        races[len(i.applicants[0].race)] = 1\n",
    "        \n",
    "    if len(i.applicants) == 2:\n",
    "        if len(i.applicants[1].race) in races.keys(): \n",
    "            races[len(i.applicants[1].race)] += 1\n",
    "        else:\n",
    "            races[len(i.applicants[1].race)] = 1\n",
    "races = dict(sorted(races.items()))\n",
    "# races\n",
    "plt.bar(races.keys(), races.values())\n",
    "plt.xlabel(\"Number of racial identities\")\n",
    "plt.ylabel(\"Count\")\n",
    "plt.show()"
   ]
  },
  {
   "cell_type": "code",
   "execution_count": 27,
   "id": "1fdcbae8-ae78-4b6a-ada0-904a3c6ca975",
   "metadata": {},
   "outputs": [
    {
     "data": {
      "text/plain": [
       "63"
      ]
     },
     "execution_count": 27,
     "metadata": {},
     "output_type": "execute_result"
    }
   ],
   "source": [
    "#Q9\n",
    "# recursive function or method to count the number of leaf nodes present in the given BST\n",
    "tree.findLeaves(tree.root)"
   ]
  },
  {
   "cell_type": "code",
   "execution_count": 28,
   "id": "41fda9b8-71b2-4994-b7dc-1d18e7470519",
   "metadata": {
    "tags": []
   },
   "outputs": [
    {
     "data": {
      "text/plain": [
       "9.85"
      ]
     },
     "execution_count": 28,
     "metadata": {},
     "output_type": "execute_result"
    }
   ],
   "source": [
    "#Q10\n",
    "def findTopN(root, n, count):\n",
    "    result = None\n",
    "    #if the root is not none\n",
    "    if root != None:\n",
    "        #recurse through the right side\n",
    "        result = findTopN(root.right, n, count)\n",
    "        #check if the result is not none \n",
    "        if result != None:\n",
    "            return result\n",
    "        #increment number of visited nodes\n",
    "        count[0] += 1\n",
    "        #check if count matches n because then it is the n largest value\n",
    "        if count[0] == n:\n",
    "            return root.key\n",
    "        #recurse through the left side\n",
    "        result = findTopN(root.left, n, count)\n",
    "    return result\n",
    "findTopN(tree.root, 3, [0])"
   ]
  }
 ],
 "metadata": {
  "kernelspec": {
   "display_name": "Python 3 (ipykernel)",
   "language": "python",
   "name": "python3"
  },
  "language_info": {
   "codemirror_mode": {
    "name": "ipython",
    "version": 3
   },
   "file_extension": ".py",
   "mimetype": "text/x-python",
   "name": "python",
   "nbconvert_exporter": "python",
   "pygments_lexer": "ipython3",
   "version": "3.10.12"
  }
 },
 "nbformat": 4,
 "nbformat_minor": 5
}
