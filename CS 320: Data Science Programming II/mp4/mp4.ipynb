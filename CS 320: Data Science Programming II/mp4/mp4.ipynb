{
 "cells": [
  {
   "cell_type": "code",
   "execution_count": 1,
   "id": "3b7c2728-c445-49eb-b20c-da11e21d2f68",
   "metadata": {},
   "outputs": [],
   "source": [
    "import scrape\n",
    "import json\n",
    "import csv\n",
    "import pandas as pd\n",
    "from zipfile import ZipFile, ZIP_DEFLATED\n",
    "from io import TextIOWrapper\n",
    "import time\n",
    "import matplotlib.pyplot as plt\n",
    "from selenium.webdriver.chrome.options import Options\n",
    "from selenium.webdriver.chrome.service import Service\n",
    "from selenium import webdriver\n",
    "from webdriver_manager.chrome import ChromeDriverManager\n",
    "import os\n",
    "%load_ext autoreload\n",
    "%autoreload 2"
   ]
  },
  {
   "cell_type": "code",
   "execution_count": 2,
   "id": "ec823b0b-d0c1-4a14-a32f-b299d197b260",
   "metadata": {},
   "outputs": [],
   "source": [
    "df = pd.DataFrame([\n",
    "        [0,1,0,1],\n",
    "        [0,0,1,0],\n",
    "        [0,0,0,1],\n",
    "        [0,0,1,0],\n",
    "    ], index=[\"A\", \"B\", \"C\", \"D\"], columns=[\"A\", \"B\", \"C\", \"D\"])\n",
    "m = scrape.MatrixSearcher(df)\n",
    "\n",
    "m.bfs_search(\"A\")\n",
    "assert m.order == ['A', 'B', 'D', 'C']"
   ]
  },
  {
   "cell_type": "code",
   "execution_count": 3,
   "id": "357c2324-be7a-412a-81d5-ad098db7c817",
   "metadata": {},
   "outputs": [
    {
     "name": "stdout",
     "output_type": "stream",
     "text": [
      "['C', 'D']\n"
     ]
    }
   ],
   "source": [
    "df = pd.DataFrame([\n",
    "    [0,1,0,1],\n",
    "    [0,0,1,0],\n",
    "    [0,0,0,1],\n",
    "    [0,0,1,0],\n",
    "], index=[\"A\", \"B\", \"C\", \"D\"], columns=[\"A\", \"B\", \"C\", \"D\"])\n",
    "\n",
    "m = scrape.MatrixSearcher(df)\n",
    "assert m.visit_and_get_children(\"B\") == [\"C\"]\n",
    "\n",
    "m.dfs_search(\"C\")\n",
    "print(m.order)\n",
    "assert m.order == ['C', 'D']\n",
    "\n"
   ]
  },
  {
   "cell_type": "code",
   "execution_count": 4,
   "id": "487e2879-2fec-4ead-bd24-0cf3acf99734",
   "metadata": {},
   "outputs": [
    {
     "data": {
      "text/html": [
       "<div>\n",
       "<style scoped>\n",
       "    .dataframe tbody tr th:only-of-type {\n",
       "        vertical-align: middle;\n",
       "    }\n",
       "\n",
       "    .dataframe tbody tr th {\n",
       "        vertical-align: top;\n",
       "    }\n",
       "\n",
       "    .dataframe thead th {\n",
       "        text-align: right;\n",
       "    }\n",
       "</style>\n",
       "<table border=\"1\" class=\"dataframe\">\n",
       "  <thead>\n",
       "    <tr style=\"text-align: right;\">\n",
       "      <th></th>\n",
       "      <th>A</th>\n",
       "      <th>B</th>\n",
       "      <th>C</th>\n",
       "      <th>D</th>\n",
       "    </tr>\n",
       "  </thead>\n",
       "  <tbody>\n",
       "    <tr>\n",
       "      <th>A</th>\n",
       "      <td>0</td>\n",
       "      <td>1</td>\n",
       "      <td>0</td>\n",
       "      <td>1</td>\n",
       "    </tr>\n",
       "    <tr>\n",
       "      <th>B</th>\n",
       "      <td>0</td>\n",
       "      <td>0</td>\n",
       "      <td>1</td>\n",
       "      <td>0</td>\n",
       "    </tr>\n",
       "    <tr>\n",
       "      <th>C</th>\n",
       "      <td>0</td>\n",
       "      <td>0</td>\n",
       "      <td>0</td>\n",
       "      <td>1</td>\n",
       "    </tr>\n",
       "    <tr>\n",
       "      <th>D</th>\n",
       "      <td>0</td>\n",
       "      <td>0</td>\n",
       "      <td>1</td>\n",
       "      <td>0</td>\n",
       "    </tr>\n",
       "  </tbody>\n",
       "</table>\n",
       "</div>"
      ],
      "text/plain": [
       "   A  B  C  D\n",
       "A  0  1  0  1\n",
       "B  0  0  1  0\n",
       "C  0  0  0  1\n",
       "D  0  0  1  0"
      ]
     },
     "execution_count": 4,
     "metadata": {},
     "output_type": "execute_result"
    }
   ],
   "source": [
    "\n",
    "df = pd.DataFrame([\n",
    "    [0,1,0,1],\n",
    "    [0,0,1,0],\n",
    "    [0,0,0,1],\n",
    "    [0,0,1,0],\n",
    "], index=[\"A\", \"B\", \"C\", \"D\"], columns=[\"A\", \"B\", \"C\", \"D\"])\n",
    "df\n"
   ]
  },
  {
   "cell_type": "code",
   "execution_count": 5,
   "id": "f1b2bce3-dce3-4769-8669-02b0dc291960",
   "metadata": {},
   "outputs": [
    {
     "data": {
      "text/plain": [
       "['A', 'B', 'C', 'D']"
      ]
     },
     "execution_count": 5,
     "metadata": {},
     "output_type": "execute_result"
    }
   ],
   "source": [
    "m = scrape.MatrixSearcher(df)\n",
    "m.dfs_search(\"A\")\n",
    "m.order\n"
   ]
  },
  {
   "cell_type": "code",
   "execution_count": 6,
   "id": "b9892c1a-c9a4-487d-b728-bc8490802771",
   "metadata": {},
   "outputs": [
    {
     "name": "stdout",
     "output_type": "stream",
     "text": [
      "['2.txt', '4.txt'] ['M'] M\n"
     ]
    }
   ],
   "source": [
    "fs = scrape.FileSearcher()\n",
    "print(fs.visit_and_get_children(\"1.txt\"), fs.order, fs.concat_order())\n"
   ]
  },
  {
   "cell_type": "code",
   "execution_count": 8,
   "id": "3e68aa28-c54e-4262-9081-56f04a12fd90",
   "metadata": {},
   "outputs": [
    {
     "name": "stdout",
     "output_type": "stream",
     "text": [
      "['http://34.55.28.112:5000/Node_2.html', 'http://34.55.28.112:5000/Node_4.html']\n",
      "    clue   latitude   longitude                          description\n",
      "0      1  43.089034  -89.416128              Picnic Point in Madison\n",
      "1      7  38.105507  126.910613               Silver Beach in Hawaii\n",
      "2      1  65.044901  -16.712836  Shore of a Volcanic Lake in Iceland\n",
      "3      3  48.860945    2.335773                  The Louvre in Paris\n",
      "4      5  37.434183 -122.321990      Redwood forest in San Francisco\n",
      "5      8  51.180315   -1.829659                 Stonehenge in the UK\n",
      "6      2  27.987586   86.925002                 Mt. Everest in Nepal\n",
      "7      4  34.134117 -118.321495                 Hollywood Sign in LA\n",
      "8      5  38.655100   90.061800                 Cahokia Mounds in IL\n",
      "9      9  40.748400   73.985700          Empire State Building in NY\n",
      "10     4  29.975300   31.137600        Great Sphinx of Giza in Egypt\n",
      "11     1  47.557600   10.749800     Neuschwanstein Castle in Germany\n",
      "12     5  38.624700   90.184800        The Gateway Arch in St. Louis\n",
      "13     3  30.328500   35.444400                      Petra in Jordan\n",
      "14     2  41.480800   82.683400                    Cedar Point in OH\n",
      "15     6  43.070010  -89.409450          Quick Trip on Monroe Street\n"
     ]
    }
   ],
   "source": [
    "# kill previous chrome instance if still around (to conserve memory)\n",
    "os.system(\"pkill -f -9 chromium\")\n",
    "\n",
    "options = Options()\n",
    "# Run in headless mode (info: https://www.browserstack.com/guide/what-is-headless-browser-testing)\n",
    "options.add_argument(\"--headless=new\")\n",
    "service = Service(ChromeDriverManager().install())\n",
    "driver = webdriver.Chrome(options=options, service=service)\n",
    "\n",
    "# TODO: fill the value of VM_IP as your VMs IP address\n",
    "VM_IP = '34.55.28.112'\n",
    "start_url = f\"http://{VM_IP}:5000/Node_1.html\"\n",
    "\n",
    "s = scrape.WebSearcher(driver)\n",
    "print(s.visit_and_get_children(start_url))\n",
    "\n",
    "s = scrape.WebSearcher(driver)\n",
    "s.bfs_search(start_url)\n",
    "\n",
    "print(s.table())\n",
    "\n",
    "driver.close()"
   ]
  },
  {
   "cell_type": "code",
   "execution_count": 31,
   "id": "2a646c36-1855-4c6d-af0f-0d483dfc4d88",
   "metadata": {
    "tags": []
   },
   "outputs": [
    {
     "data": {
      "text/plain": [
       "'CAMP RANDALL STADIUM'"
      ]
     },
     "execution_count": 31,
     "metadata": {},
     "output_type": "execute_result"
    }
   ],
   "source": [
    "\n",
    "# kill previous chrome instance if still around (to conserve memory)\n",
    "os.system(\"pkill -f -9 chromium\")\n",
    "\n",
    "options = Options()\n",
    "# Run in headless mode (info: https://www.browserstack.com/guide/what-is-headless-browser-testing)\n",
    "options.add_argument(\"--headless=new\")\n",
    "service = Service(ChromeDriverManager().install())\n",
    "driver2 = webdriver.Chrome(options=options, service=service)\n",
    "\n",
    "VM_IP = '34.55.28.112'\n",
    "url = f\"http://{VM_IP}:5000/\"\n",
    "start_url = f\"http://{VM_IP}:5000/Node_1.html\"\n",
    "\n",
    "s2 = scrape.WebSearcher(driver2)\n",
    "s2.bfs_search(start_url)\n",
    "table = s2.table()\n",
    "\n",
    "location = scrape.reveal_secrets(driver2, url, table)\n",
    "\n",
    "driver2.close()\n",
    "location"
   ]
  },
  {
   "cell_type": "code",
   "execution_count": null,
   "id": "51f0715b-b8f6-46d2-88dd-ac34b246b39e",
   "metadata": {},
   "outputs": [],
   "source": []
  }
 ],
 "metadata": {
  "kernelspec": {
   "display_name": "Python 3 (ipykernel)",
   "language": "python",
   "name": "python3"
  },
  "language_info": {
   "codemirror_mode": {
    "name": "ipython",
    "version": 3
   },
   "file_extension": ".py",
   "mimetype": "text/x-python",
   "name": "python",
   "nbconvert_exporter": "python",
   "pygments_lexer": "ipython3",
   "version": "3.10.12"
  }
 },
 "nbformat": 4,
 "nbformat_minor": 5
}
