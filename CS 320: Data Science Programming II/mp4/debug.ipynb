{
 "cells": [
  {
   "cell_type": "code",
   "execution_count": 1,
   "id": "9ca330a1-7cf5-4a9d-bd3f-d26ad111dfb1",
   "metadata": {},
   "outputs": [],
   "source": [
    "class Parent:\n",
    "    def twice(self):\n",
    "        self.message()\n",
    "        self.message()\n",
    "        \n",
    "    def message(self):\n",
    "        print(\"parent says hi\")\n",
    "        \n",
    "class Child(Parent):\n",
    "    def message(self):\n",
    "        print(\"child says hi\")\n",
    "        \n",
    "c = Child()\n"
   ]
  },
  {
   "cell_type": "code",
   "execution_count": 2,
   "id": "9fcb201a-2cd0-4a23-a6c8-06fa6ab9d74b",
   "metadata": {},
   "outputs": [
    {
     "name": "stdout",
     "output_type": "stream",
     "text": [
      "child says hi\n"
     ]
    }
   ],
   "source": [
    "c.message()"
   ]
  },
  {
   "cell_type": "code",
   "execution_count": 3,
   "id": "77139b98-922e-40d9-9cc2-cbfe3b967055",
   "metadata": {},
   "outputs": [],
   "source": [
    "class GraphSearcher:\n",
    "    def __init__(self):\n",
    "        self.visited = set()\n",
    "        self.order = []\n",
    "\n",
    "    def visit_and_get_children(self, node):\n",
    "        \"\"\" \n",
    "        Leave this method as is! It will be over-written the child classes\n",
    "        Each child class should perform the following:\n",
    "            Record the node value in self.order AND return its children\n",
    "            parameter: node\n",
    "            return: children of the given node\n",
    "        \"\"\"\n",
    "        raise Exception(\"must be overridden in sub classes -- don't change me here!\")\n",
    "\n",
    "    def dfs_search(self, node):\n",
    "        # 1. clear out visited set and order list\n",
    "        # 2. start recursive search by calling dfs_visit\n",
    "        self.visited.clear()\n",
    "        self.dfs_visit(node)\n",
    "\n",
    "    def dfs_visit(self, node):\n",
    "        # 1. if this node has already been visited, just `return` (no value necessary)\n",
    "        # 2. mark node as visited by adding it to the set\n",
    "        # 3. call self.visit_and_get_children(node) to get the children\n",
    "        # 4. in a loop, call dfs_visit on each of the children\n",
    "        if node in self.visited:\n",
    "            return\n",
    "        self.visited.add(node)\n",
    "        children = self.visit_and_get_children(node)\n",
    "        for child in children:\n",
    "            self.dfs_visit(child)\n"
   ]
  },
  {
   "cell_type": "code",
   "execution_count": 4,
   "id": "d8d48496-6128-4f71-8f2c-bde7a4eb6a58",
   "metadata": {},
   "outputs": [],
   "source": [
    "# g = GraphSearcher()\n",
    "# g.dfs_search(\"A\")\n"
   ]
  },
  {
   "cell_type": "code",
   "execution_count": 5,
   "id": "22a51b6d-3df0-4c59-ac84-89090bb7b7c8",
   "metadata": {},
   "outputs": [
    {
     "data": {
      "text/html": [
       "<div>\n",
       "<style scoped>\n",
       "    .dataframe tbody tr th:only-of-type {\n",
       "        vertical-align: middle;\n",
       "    }\n",
       "\n",
       "    .dataframe tbody tr th {\n",
       "        vertical-align: top;\n",
       "    }\n",
       "\n",
       "    .dataframe thead th {\n",
       "        text-align: right;\n",
       "    }\n",
       "</style>\n",
       "<table border=\"1\" class=\"dataframe\">\n",
       "  <thead>\n",
       "    <tr style=\"text-align: right;\">\n",
       "      <th></th>\n",
       "      <th>A</th>\n",
       "      <th>B</th>\n",
       "      <th>C</th>\n",
       "      <th>D</th>\n",
       "    </tr>\n",
       "  </thead>\n",
       "  <tbody>\n",
       "    <tr>\n",
       "      <th>A</th>\n",
       "      <td>0</td>\n",
       "      <td>1</td>\n",
       "      <td>0</td>\n",
       "      <td>1</td>\n",
       "    </tr>\n",
       "    <tr>\n",
       "      <th>B</th>\n",
       "      <td>0</td>\n",
       "      <td>0</td>\n",
       "      <td>1</td>\n",
       "      <td>0</td>\n",
       "    </tr>\n",
       "    <tr>\n",
       "      <th>C</th>\n",
       "      <td>0</td>\n",
       "      <td>0</td>\n",
       "      <td>0</td>\n",
       "      <td>1</td>\n",
       "    </tr>\n",
       "    <tr>\n",
       "      <th>D</th>\n",
       "      <td>0</td>\n",
       "      <td>0</td>\n",
       "      <td>1</td>\n",
       "      <td>0</td>\n",
       "    </tr>\n",
       "  </tbody>\n",
       "</table>\n",
       "</div>"
      ],
      "text/plain": [
       "   A  B  C  D\n",
       "A  0  1  0  1\n",
       "B  0  0  1  0\n",
       "C  0  0  0  1\n",
       "D  0  0  1  0"
      ]
     },
     "execution_count": 5,
     "metadata": {},
     "output_type": "execute_result"
    }
   ],
   "source": [
    "import pandas as pd\n",
    "\n",
    "df = pd.DataFrame([\n",
    "    [0,1,0,1],\n",
    "    [0,0,1,0],\n",
    "    [0,0,0,1],\n",
    "    [0,0,1,0],\n",
    "], index=[\"A\", \"B\", \"C\", \"D\"], columns=[\"A\", \"B\", \"C\", \"D\"])\n",
    "df\n"
   ]
  },
  {
   "cell_type": "code",
   "execution_count": 6,
   "id": "1e9f3460-7b9f-4a8c-8c15-6d765ddcde6b",
   "metadata": {},
   "outputs": [
    {
     "data": {
      "text/plain": [
       "A    0\n",
       "B    0\n",
       "C    1\n",
       "D    0\n",
       "Name: B, dtype: int64"
      ]
     },
     "execution_count": 6,
     "metadata": {},
     "output_type": "execute_result"
    }
   ],
   "source": [
    "df.loc[\"B\"]"
   ]
  },
  {
   "cell_type": "code",
   "execution_count": 7,
   "id": "fea1694d-b042-4172-98ef-9f0c4ab1e9e6",
   "metadata": {},
   "outputs": [
    {
     "name": "stdout",
     "output_type": "stream",
     "text": [
      "C\n"
     ]
    }
   ],
   "source": [
    "for node, has_edge in df.loc[\"B\"].items():\n",
    "    if has_edge == 1:\n",
    "        print(node)"
   ]
  },
  {
   "cell_type": "code",
   "execution_count": 17,
   "id": "c973fb92-2e7f-47f6-8406-d33f34ce6444",
   "metadata": {},
   "outputs": [
    {
     "name": "stdout",
     "output_type": "stream",
     "text": [
      "['C', 'D']\n"
     ]
    }
   ],
   "source": [
    "class GraphSearcher:\n",
    "    def __init__(self):\n",
    "        self.visited = set()\n",
    "        self.order = []\n",
    "\n",
    "    def visit_and_get_children(self, node):\n",
    "        \"\"\" \n",
    "        Leave this method as is! It will be over-written the child classes\n",
    "        Each child class should perform the following:\n",
    "            Record the node value in self.order AND return its children\n",
    "            parameter: node\n",
    "            return: children of the given node\n",
    "        \"\"\"\n",
    "        raise Exception(\"must be overridden in sub classes -- don't change me here!\")\n",
    "\n",
    "    def dfs_search(self, node):\n",
    "        # 1. clear out visited set and order list\n",
    "        # 2. start recursive search by calling dfs_visit\n",
    "        self.visited.clear()\n",
    "        self.dfs_visit(node)\n",
    "\n",
    "    def dfs_visit(self, node):\n",
    "        # 1. if this node has already been visited, just `return` (no value necessary)\n",
    "        # 2. mark node as visited by adding it to the set\n",
    "        # 3. call self.visit_and_get_children(node) to get the children\n",
    "        # 4. in a loop, call dfs_visit on each of the children\n",
    "        if node in self.visited:\n",
    "            return\n",
    "        self.visited.add(node)\n",
    "        children = self.visit_and_get_children(node)\n",
    "        for child in children:\n",
    "            self.dfs_visit(child)\n",
    "class MatrixSearcher(GraphSearcher):\n",
    "    def __init__(self, df):\n",
    "        super().__init__() # call constructor method of parent class\n",
    "        self.df = df\n",
    "\n",
    "    def visit_and_get_children(self, node):\n",
    "        # TODO: Record the node value in self.order\n",
    "        self.order.append(node)\n",
    "        # print(value)\n",
    "        children = []\n",
    "        # TODO: use `self.df` to determine what children the node has and append them\n",
    "        #cols = list(df.columns.values)\n",
    "        for node, has_edge in self.df.loc[node].items():\n",
    "            if has_edge == 1:\n",
    "                children.append(node)\n",
    "                # print(\"edge\")\n",
    "        # print(value)\n",
    "        # print(children)\n",
    "        return children\n",
    "df = pd.DataFrame([\n",
    "        [0,1,0,1],\n",
    "        [0,0,1,0],\n",
    "        [0,0,0,1],\n",
    "        [0,0,1,0],\n",
    "    ], index=[\"A\", \"B\", \"C\", \"D\"], columns=[\"A\", \"B\", \"C\", \"D\"])\n",
    "m = MatrixSearcher(df)\n",
    "m.dfs_search(\"C\")\n",
    "\n",
    "assert m.order == ['C', 'D']\n",
    "print(m.order)"
   ]
  },
  {
   "cell_type": "code",
   "execution_count": 13,
   "id": "054bd11b-6ed4-45ba-8aa5-35ce660d663e",
   "metadata": {},
   "outputs": [
    {
     "data": {
      "text/plain": [
       "['C', 'D']"
      ]
     },
     "execution_count": 13,
     "metadata": {},
     "output_type": "execute_result"
    }
   ],
   "source": [
    "m = MatrixSearcher(df)\n",
    "m.dfs_search(\"C\")\n",
    "m.order"
   ]
  },
  {
   "cell_type": "code",
   "execution_count": null,
   "id": "7b4e1f9a-f647-49f9-9002-d7fdfe015ca8",
   "metadata": {},
   "outputs": [],
   "source": []
  },
  {
   "cell_type": "code",
   "execution_count": null,
   "id": "076db630-a881-4a65-9376-d180f1e013ac",
   "metadata": {},
   "outputs": [],
   "source": []
  }
 ],
 "metadata": {
  "kernelspec": {
   "display_name": "Python 3 (ipykernel)",
   "language": "python",
   "name": "python3"
  },
  "language_info": {
   "codemirror_mode": {
    "name": "ipython",
    "version": 3
   },
   "file_extension": ".py",
   "mimetype": "text/x-python",
   "name": "python",
   "nbconvert_exporter": "python",
   "pygments_lexer": "ipython3",
   "version": "3.10.12"
  }
 },
 "nbformat": 4,
 "nbformat_minor": 5
}
