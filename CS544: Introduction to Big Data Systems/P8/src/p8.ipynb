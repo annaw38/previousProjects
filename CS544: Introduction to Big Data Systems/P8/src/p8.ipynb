{
 "cells": [
  {
   "cell_type": "code",
   "execution_count": 1,
   "id": "fd0065ec-2c83-4da6-b4ec-017b69ad09f0",
   "metadata": {},
   "outputs": [
    {
     "data": {
      "text/plain": [
       "'PRETTY_NAME=\"Ubuntu 24.04.2 LTS\"\\nNAME=\"Ubuntu\"\\nVERSION_ID=\"24.04\"\\nVERSION=\"24.04.2 LTS (Noble Numbat)\"\\nVERSION_CODENAME=noble\\nID=ubuntu\\nID_LIKE=debian\\nHOME_URL=\"https://www.ubuntu.com/\"\\nSUPPORT_URL=\"https://help.ubuntu.com/\"\\nBUG_REPORT_URL=\"https://bugs.launchpad.net/ubuntu/\"\\nPRIVACY_POLICY_URL=\"https://www.ubuntu.com/legal/terms-and-policies/privacy-policy\"\\nUBUNTU_CODENAME=noble\\nLOGO=ubuntu-logo\\n'"
      ]
     },
     "execution_count": 1,
     "metadata": {},
     "output_type": "execute_result"
    }
   ],
   "source": [
    "#q1\n",
    "with open('/etc/os-release', 'r') as f:\n",
    "    osRelease = f.read()\n",
    "osRelease"
   ]
  },
  {
   "cell_type": "code",
   "execution_count": 2,
   "id": "e41ff282-f95e-4dbf-8516-9e85ef6ac9fe",
   "metadata": {},
   "outputs": [],
   "source": [
    "import subprocess"
   ]
  },
  {
   "cell_type": "code",
   "execution_count": 3,
   "id": "6f6e3f60-12b4-4bbc-b981-20e37f2e800c",
   "metadata": {},
   "outputs": [
    {
     "data": {
      "text/plain": [
       "\"CompletedProcess(args=['lscpu'], returncode=0, stdout='Architecture:                         x86_64\\\\nCPU op-mode(s):                       32-bit, 64-bit\\\\nAddress sizes:                        46 bits physical, 48 bits virtual\\\\nByte Order:                           Little Endian\\\\nCPU(s):                               2\\\\nOn-line CPU(s) list:                  0,1\\\\nVendor ID:                            GenuineIntel\\\\nModel name:                           Intel(R) Xeon(R) CPU @ 2.20GHz\\\\nCPU family:                           6\\\\nModel:                                79\\\\nThread(s) per core:                   2\\\\nCore(s) per socket:                   1\\\\nSocket(s):                            1\\\\nStepping:                             0\\\\nBogoMIPS:                             4399.99\\\\nFlags:                                fpu vme de pse tsc msr pae mce cx8 apic sep mtrr pge mca cmov pat pse36 clflush mmx fxsr sse sse2 ss ht syscall nx pdpe1gb rdtscp lm constant_tsc rep_good nopl xtopology nonstop_tsc cpuid tsc_known_freq pni pclmulqdq ssse3 fma cx16 pcid sse4_1 sse4_2 x2apic movbe popcnt aes xsave avx f16c rdrand hypervisor lahf_lm abm 3dnowprefetch pti ssbd ibrs ibpb stibp fsgsbase tsc_adjust bmi1 hle avx2 smep bmi2 erms invpcid rtm rdseed adx smap xsaveopt arat md_clear arch_capabilities\\\\nHypervisor vendor:                    KVM\\\\nVirtualization type:                  full\\\\nL1d cache:                            32 KiB (1 instance)\\\\nL1i cache:                            32 KiB (1 instance)\\\\nL2 cache:                             256 KiB (1 instance)\\\\nL3 cache:                             55 MiB (1 instance)\\\\nNUMA node(s):                         1\\\\nNUMA node0 CPU(s):                    0,1\\\\nVulnerability Gather data sampling:   Not affected\\\\nVulnerability Itlb multihit:          Not affected\\\\nVulnerability L1tf:                   Mitigation; PTE Inversion\\\\nVulnerability Mds:                    Mitigation; Clear CPU buffers; SMT Host state unknown\\\\nVulnerability Meltdown:               Mitigation; PTI\\\\nVulnerability Mmio stale data:        Vulnerable: Clear CPU buffers attempted, no microcode; SMT Host state unknown\\\\nVulnerability Reg file data sampling: Not affected\\\\nVulnerability Retbleed:               Mitigation; IBRS\\\\nVulnerability Spec rstack overflow:   Not affected\\\\nVulnerability Spec store bypass:      Mitigation; Speculative Store Bypass disabled via prctl\\\\nVulnerability Spectre v1:             Mitigation; usercopy/swapgs barriers and __user pointer sanitization\\\\nVulnerability Spectre v2:             Mitigation; IBRS; IBPB conditional; STIBP conditional; RSB filling; PBRSB-eIBRS Not affected; BHI SW loop, KVM SW loop\\\\nVulnerability Srbds:                  Not affected\\\\nVulnerability Tsx async abort:        Mitigation; Clear CPU buffers; SMT Host state unknown\\\\n', stderr='')\""
      ]
     },
     "execution_count": 3,
     "metadata": {},
     "output_type": "execute_result"
    }
   ],
   "source": [
    "#q2\n",
    "result = str(subprocess.run(['lscpu'], capture_output=True, text=True))\n",
    "result"
   ]
  },
  {
   "cell_type": "code",
   "execution_count": 4,
   "id": "0020b6fd-0dce-4eb8-91cb-4c28876ef50a",
   "metadata": {},
   "outputs": [],
   "source": [
    "from pyarrow import fs"
   ]
  },
  {
   "cell_type": "code",
   "execution_count": 5,
   "id": "ca84eda6-8986-46b5-81e7-eda5fe535e7e",
   "metadata": {},
   "outputs": [],
   "source": [
    "gcs = fs.GcsFileSystem()\n",
    "with open(\"../wi-schools-raw.parquet\", \"rb\") as f:\n",
    "    data = f.read()\n",
    "with gcs.open_output_stream(\"cs544p8bucket/wi-schools-raw.parquet\") as stream:    \n",
    "    stream.write(data)\n"
   ]
  },
  {
   "cell_type": "code",
   "execution_count": 6,
   "id": "0698f908-9e62-482d-84bb-1aeedb8f89bc",
   "metadata": {},
   "outputs": [
    {
     "data": {
      "text/plain": [
       "['cs544p8bucket/wi-schools-raw.parquet']"
      ]
     },
     "execution_count": 6,
     "metadata": {},
     "output_type": "execute_result"
    }
   ],
   "source": [
    "#q3\n",
    "selector = fs.FileSelector('cs544p8bucket', recursive=True)\n",
    "paths = []\n",
    "info = gcs.get_file_info(selector)\n",
    "for file in info:\n",
    "    paths.append(str(file.path))\n",
    "paths"
   ]
  },
  {
   "cell_type": "code",
   "execution_count": 7,
   "id": "3411df18-3c90-4384-8a94-b98dfbeac978",
   "metadata": {},
   "outputs": [
    {
     "data": {
      "text/plain": [
       "1745979591590000000"
      ]
     },
     "execution_count": 7,
     "metadata": {},
     "output_type": "execute_result"
    }
   ],
   "source": [
    "#q4\n",
    "info[0].mtime_ns"
   ]
  },
  {
   "cell_type": "code",
   "execution_count": 8,
   "id": "5aae53e5-4c38-4984-a09f-3b1673916a20",
   "metadata": {},
   "outputs": [
    {
     "data": {
      "text/plain": []
     },
     "execution_count": 8,
     "metadata": {},
     "output_type": "execute_result"
    }
   ],
   "source": [
    "from google.cloud import dataform\n",
    "client = dataform.DataformClient()\n",
    "\n",
    "sqlx = \"\"\"\n",
    "config {\n",
    "  type: \"table\",\n",
    "  name: \"wi_counties\",\n",
    "}\n",
    "\n",
    "SELECT *\n",
    "FROM bigquery-public-data.geo_us_boundaries.counties\n",
    "WHERE state_fips_code = \"55\"\n",
    "\n",
    "\"\"\"\n",
    "\n",
    "client.write_file(dataform.WriteFileRequest(\n",
    "    workspace=\"projects/still-protocol-457514-r0/locations/us-central1/repositories/p8dataform/workspaces/mainp8\",\n",
    "    path=\"definitions/wi_counties.sqlx\",\n",
    "    contents=bytes(sqlx, \"utf-8\")\n",
    "))\n",
    "\n"
   ]
  },
  {
   "cell_type": "code",
   "execution_count": 9,
   "id": "3f6151a8-a730-4550-87a8-47888835520a",
   "metadata": {},
   "outputs": [
    {
     "data": {
      "text/plain": []
     },
     "execution_count": 9,
     "metadata": {},
     "output_type": "execute_result"
    }
   ],
   "source": [
    "sqlx = \"\"\"\n",
    "config {\n",
    "  type: \"operations\",\n",
    "  name: \"schools\",\n",
    "  hasOutput: true,\n",
    "}\n",
    "\n",
    "LOAD DATA OVERWRITE still-protocol-457514-r0.p8.schools\n",
    "FROM FILES(\n",
    "    uris=[\"gs://cs544p8bucket/wi-schools-raw.parquet\"],\n",
    "    format=\"parquet\"\n",
    ")\n",
    "\n",
    "\n",
    "\"\"\"\n",
    "\n",
    "client.write_file(dataform.WriteFileRequest(\n",
    "    workspace=\"projects/still-protocol-457514-r0/locations/us-central1/repositories/p8dataform/workspaces/mainp8\",\n",
    "    path=\"definitions/schools.sqlx\",\n",
    "    contents=bytes(sqlx, \"utf-8\")\n",
    "))"
   ]
  },
  {
   "cell_type": "code",
   "execution_count": 10,
   "id": "91e0c105-409d-471f-b9ab-1fb14fa0008a",
   "metadata": {},
   "outputs": [
    {
     "data": {
      "text/plain": []
     },
     "execution_count": 10,
     "metadata": {},
     "output_type": "execute_result"
    }
   ],
   "source": [
    "sqlx = \"\"\"\n",
    "config {\n",
    "  type: \"table\",\n",
    "  name: \"wi_county_schools\",\n",
    "}\n",
    "\n",
    "SELECT s.*, c.county_name, ST_GEOGPOINT(s.longitude, s.latitude) AS location\n",
    "FROM ${ref('schools')} AS s\n",
    "CROSS JOIN ${ref('wi_counties')} AS c\n",
    "WHERE ST_WITHIN(ST_GEOGPOINT(s.longitude, s.latitude), c.county_geom) \n",
    "\n",
    "\"\"\"\n",
    "\n",
    "client.write_file(dataform.WriteFileRequest(\n",
    "    workspace=\"projects/still-protocol-457514-r0/locations/us-central1/repositories/p8dataform/workspaces/mainp8\",\n",
    "    path=\"definitions/wi_county_schools.sqlx\",\n",
    "    contents=bytes(sqlx, \"utf-8\")\n",
    "))"
   ]
  },
  {
   "cell_type": "code",
   "execution_count": 11,
   "id": "0dc1281e-af5d-4b7d-acab-e78ed5fbab67",
   "metadata": {},
   "outputs": [],
   "source": [
    "#used chatgpt, pdf of output in gitlab (p1)\n",
    "project_id = \"still-protocol-457514-r0\"\n",
    "location = \"us-central1\"\n",
    "repository_id = \"p8dataform\"\n",
    "workspace_id = \"mainp8\"\n",
    "\n",
    "parent = client.repository_path(project=project_id, location=location, repository=repository_id)\n",
    "workspace_path = client.workspace_path(\n",
    "    project=project_id,\n",
    "    location=location,\n",
    "    repository=repository_id,\n",
    "    workspace=workspace_id,\n",
    ")\n",
    "compilation_result = dataform.CompilationResult(\n",
    "    workspace = workspace_path,\n",
    ")\n",
    "\n",
    "compilation_result_name = client.create_compilation_result(\n",
    "    parent=parent,\n",
    "    compilation_result=compilation_result,\n",
    ")"
   ]
  },
  {
   "cell_type": "code",
   "execution_count": 12,
   "id": "9e86ef29-fe7a-41c5-b8aa-e377f5dc2847",
   "metadata": {},
   "outputs": [],
   "source": [
    "%load_ext bigquery_magics"
   ]
  },
  {
   "cell_type": "code",
   "execution_count": 13,
   "id": "688f8e78-a21d-4a48-8025-b386387aebca",
   "metadata": {},
   "outputs": [],
   "source": [
    "from google.cloud import bigquery\n",
    "bq = bigquery.Client()"
   ]
  },
  {
   "cell_type": "code",
   "execution_count": 14,
   "id": "69523e6c-0e59-4862-bf8b-99c7ef678e53",
   "metadata": {},
   "outputs": [
    {
     "data": {
      "text/plain": [
       "72"
      ]
     },
     "execution_count": 14,
     "metadata": {},
     "output_type": "execute_result"
    }
   ],
   "source": [
    "#q5\n",
    "df = bq.query(\"\"\"\n",
    "select count(*)\n",
    "from p8.wi_counties\n",
    "\"\"\").to_dataframe()\n",
    "ans = int(df.iloc[0,0])\n",
    "ans"
   ]
  },
  {
   "cell_type": "code",
   "execution_count": 16,
   "id": "41d3cee3-5452-4d71-8e51-e67cd97942c5",
   "metadata": {},
   "outputs": [
    {
     "data": {
      "text/plain": [
       "2116"
      ]
     },
     "execution_count": 16,
     "metadata": {},
     "output_type": "execute_result"
    }
   ],
   "source": [
    "#q6\n",
    "df = bq.query(\"\"\"\n",
    "select count(*)\n",
    "from p8.wi_county_schools as s \n",
    "where s.agency_type = \"Public school\"\n",
    "\"\"\").to_dataframe()\n",
    "ans = int(df.iloc[0,0])\n",
    "ans"
   ]
  },
  {
   "cell_type": "code",
   "execution_count": 17,
   "id": "1ec77706-6478-470d-91f1-692332deff2c",
   "metadata": {},
   "outputs": [
    {
     "data": {
      "text/plain": [
       "{'first_view': [],\n",
       " 'schools': [],\n",
       " 'second_view': ['first_view'],\n",
       " 'wi_counties': [],\n",
       " 'wi_county_schools': ['schools', 'wi_counties']}"
      ]
     },
     "execution_count": 17,
     "metadata": {},
     "output_type": "execute_result"
    }
   ],
   "source": [
    "#q7\n",
    "response = client.query_compilation_result_actions(\n",
    "    request={\"name\": compilation_result_name.name}\n",
    ")\n",
    "ans = {}\n",
    "for act in response.compilation_result_actions:\n",
    "    if act.target.name not in ans:\n",
    "        ans[act.target.name] = []\n",
    "        for t in act.relation.dependency_targets:\n",
    "            ans[act.target.name].append(t.name)\n",
    "ans"
   ]
  },
  {
   "cell_type": "code",
   "execution_count": 18,
   "id": "e4e08a7c-7a1f-4ce5-8d2e-8207d63c0285",
   "metadata": {},
   "outputs": [],
   "source": [
    "config = bigquery.QueryJobConfig(use_query_cache=False)\n",
    "q = bq.query(\"\"\"\n",
    "    SELECT schools.county_name, COUNT(*)\n",
    "    FROM p8.wi_county_schools as schools\n",
    "    GROUP BY schools.county_name\n",
    "    \"\"\", job_config=config)\n",
    "df = q.to_dataframe()"
   ]
  },
  {
   "cell_type": "code",
   "execution_count": 19,
   "id": "6f1af68e-9eed-41a0-a2da-fcda11448d83",
   "metadata": {},
   "outputs": [
    {
     "data": {
      "text/plain": [
       "{'Brown': 123,\n",
       " 'Shawano': 29,\n",
       " 'Price': 9,\n",
       " 'Waukesha': 177,\n",
       " 'Kenosha': 56,\n",
       " 'Milwaukee': 420,\n",
       " 'Racine': 68,\n",
       " 'Rock': 72,\n",
       " 'Dane': 217,\n",
       " 'Portage': 38,\n",
       " 'Fond du Lac': 55,\n",
       " 'Ozaukee': 38,\n",
       " 'Calumet': 30,\n",
       " 'Washington': 56,\n",
       " 'Dodge': 51,\n",
       " 'Jefferson': 52,\n",
       " 'Manitowoc': 44,\n",
       " 'Sheboygan': 63,\n",
       " 'Walworth': 56,\n",
       " 'Green': 23,\n",
       " 'Lafayette': 18,\n",
       " 'Iowa': 16,\n",
       " 'Sauk': 42,\n",
       " 'Richland': 14,\n",
       " 'Grant': 39,\n",
       " 'Crawford': 17,\n",
       " 'Columbia': 41,\n",
       " 'Green Lake': 15,\n",
       " 'Juneau': 26,\n",
       " 'Marquette': 10,\n",
       " 'Pierce': 29,\n",
       " 'St. Croix': 35,\n",
       " 'Polk': 28,\n",
       " 'Marinette': 29,\n",
       " 'Outagamie': 96,\n",
       " 'Oconto': 20,\n",
       " 'Kewaunee': 15,\n",
       " 'Door': 18,\n",
       " 'Marathon': 72,\n",
       " 'Langlade': 13,\n",
       " 'Wood': 47,\n",
       " 'Clark': 38,\n",
       " 'Taylor': 13,\n",
       " 'Lincoln': 16,\n",
       " 'Oneida': 17,\n",
       " 'Vilas': 13,\n",
       " 'La Crosse': 59,\n",
       " 'Trempealeau': 27,\n",
       " 'Vernon': 29,\n",
       " 'Monroe': 28,\n",
       " 'Buffalo': 11,\n",
       " 'Eau Claire': 54,\n",
       " 'Chippewa': 35,\n",
       " 'Dunn': 22,\n",
       " 'Pepin': 7,\n",
       " 'Jackson': 10,\n",
       " 'Barron': 40,\n",
       " 'Washburn': 16,\n",
       " 'Ashland': 12,\n",
       " 'Sawyer': 13,\n",
       " 'Rusk': 11,\n",
       " 'Douglas': 18,\n",
       " 'Winnebago': 65,\n",
       " 'Waupaca': 36,\n",
       " 'Waushara': 13,\n",
       " 'Adams': 3,\n",
       " 'Florence': 3,\n",
       " 'Menominee': 4,\n",
       " 'Forest': 7,\n",
       " 'Iron': 3,\n",
       " 'Bayfield': 12,\n",
       " 'Burnett': 9}"
      ]
     },
     "execution_count": 19,
     "metadata": {},
     "output_type": "execute_result"
    }
   ],
   "source": [
    "#q8\n",
    "import pandas as pd\n",
    "#used google ai, searched to dict pandas column as key\\n\"\n",
    "pd.Series(df['f0_'].values, index=df['county_name']).to_dict()"
   ]
  },
  {
   "cell_type": "code",
   "execution_count": 20,
   "id": "0782acb9-89b8-4ad5-bf45-c9088e543a17",
   "metadata": {},
   "outputs": [
    {
     "data": {
      "text/plain": [
       "104857"
      ]
     },
     "execution_count": 20,
     "metadata": {},
     "output_type": "execute_result"
    }
   ],
   "source": [
    "#q9\n",
    "q.total_bytes_billed / 1024**2 \n",
    "import math\n",
    "TB = 1024**4\n",
    "math.floor(TB / q.total_bytes_billed)"
   ]
  },
  {
   "cell_type": "code",
   "execution_count": 21,
   "id": "b7ab68e2-1417-446e-8155-ad74c05dcd8f",
   "metadata": {},
   "outputs": [
    {
     "data": {
      "application/vnd.jupyter.widget-view+json": {
       "model_id": "0738388fc14449c7b2b121b5b4c3bfc4",
       "version_major": 2,
       "version_minor": 0
      },
      "text/plain": [
       "Query is running:   0%|          |"
      ]
     },
     "metadata": {},
     "output_type": "display_data"
    },
    {
     "data": {
      "application/vnd.jupyter.widget-view+json": {
       "model_id": "52d62718cbc8414f9f61da4d485d4787",
       "version_major": 2,
       "version_minor": 0
      },
      "text/plain": [
       "Downloading:   0%|          |"
      ]
     },
     "metadata": {},
     "output_type": "display_data"
    }
   ],
   "source": [
    "%%bigquery df\n",
    "#used chatgpt, output in gitlab (p2), and https://stackoverflow.com/questions/40381322/with-tablename-as-equivalent-in-oracle\n",
    "with mid as (\n",
    "    SELECT s.school_name, s.school_type, s.county_name, s.location, s.agency_type\n",
    "    FROM p8.wi_county_schools as s\n",
    "    WHERE school_type = \"Middle School\" AND county_name = \"Dane\" AND agency_type = \"Public school\"\n",
    "),\n",
    "    high as (\n",
    "        SELECT s.school_name, s.school_type, s.county_name, s.location, s.agency_type\n",
    "        FROM p8.wi_county_schools as s\n",
    "        WHERE school_type = \"High School\" AND county_name = \"Dane\" AND agency_type = \"Public school\"\n",
    "    )\n",
    "    SELECT m.school_name, MIN_BY(h.school_name, ST_DISTANCE(m.location, h.location)) AS closest_high_school\n",
    "    FROM mid as m\n",
    "    CROSS JOIN high as h\n",
    "    GROUP BY m.school_name\n",
    "    ORDER BY m.school_name"
   ]
  },
  {
   "cell_type": "code",
   "execution_count": 22,
   "id": "72e017c6-5d3f-48ea-a4a6-14d594d677c3",
   "metadata": {},
   "outputs": [
    {
     "data": {
      "text/plain": [
       "{'Badger Ridge Middle': 'Verona Area High',\n",
       " 'Badger Rock Middle': 'West High',\n",
       " 'Belleville Middle': 'Belleville High',\n",
       " 'Black Hawk Middle': 'Shabazz-City High',\n",
       " 'Central Heights Middle': 'Prairie Phoenix Academy',\n",
       " 'Cherokee Heights Middle': 'Capital High',\n",
       " 'De Forest Middle': 'De Forest High',\n",
       " 'Deerfield Middle': 'Deerfield High',\n",
       " 'Ezekiel Gillespie Middle School': 'Vel Phillips Memorial High School',\n",
       " 'Glacial Drumlin School': 'LaFollette High',\n",
       " 'Glacier Creek Middle': 'Middleton High',\n",
       " 'Hamilton Middle': 'Capital High',\n",
       " 'Indian Mound Middle': 'McFarland High',\n",
       " 'Innovative and Alternative Middle': 'Innovative High',\n",
       " 'James Wright Middle': 'West High',\n",
       " 'Kromrey Middle': 'Middleton High',\n",
       " 'Marshall Middle': 'Marshall High',\n",
       " 'Mount Horeb Middle': 'Mount Horeb High',\n",
       " 'Nikolay Middle': 'Koshkonong Trails School',\n",
       " \"O'Keeffe Middle\": 'Innovative High',\n",
       " 'Oregon Middle': 'Oregon High',\n",
       " 'Patrick Marsh Middle': 'Prairie Phoenix Academy',\n",
       " 'Prairie View Middle': 'Sun Prairie West High',\n",
       " 'River Bluff Middle': 'Stoughton High',\n",
       " 'Savanna Oaks Middle': 'Capital High',\n",
       " 'Sennett Middle': 'LaFollette High',\n",
       " 'Sherman Middle': 'Shabazz-City High',\n",
       " 'Spring Harbor Middle': 'Capital High',\n",
       " 'Toki Middle': 'Vel Phillips Memorial High School',\n",
       " 'Waunakee Middle': 'Waunakee High',\n",
       " 'Whitehorse Middle': 'Monona Grove High',\n",
       " 'Wisconsin Heights Middle': 'Wisconsin Heights High'}"
      ]
     },
     "execution_count": 22,
     "metadata": {},
     "output_type": "execute_result"
    }
   ],
   "source": [
    "#q10\n",
    "ans = dict(zip(df['school_name'], df['closest_high_school']))\n",
    "ans"
   ]
  },
  {
   "cell_type": "code",
   "execution_count": null,
   "id": "60921d9b-7bb1-41d9-b61a-dc95537757c7",
   "metadata": {},
   "outputs": [],
   "source": []
  }
 ],
 "metadata": {
  "kernelspec": {
   "display_name": "Python 3 (ipykernel)",
   "language": "python",
   "name": "python3"
  },
  "language_info": {
   "codemirror_mode": {
    "name": "ipython",
    "version": 3
   },
   "file_extension": ".py",
   "mimetype": "text/x-python",
   "name": "python",
   "nbconvert_exporter": "python",
   "pygments_lexer": "ipython3",
   "version": "3.12.3"
  }
 },
 "nbformat": 4,
 "nbformat_minor": 5
}
